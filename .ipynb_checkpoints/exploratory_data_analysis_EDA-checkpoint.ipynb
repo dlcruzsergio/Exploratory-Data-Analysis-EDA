{
 "cells": [
  {
   "cell_type": "markdown",
   "metadata": {},
   "source": [
    "<h1>Exploratoy Data Analysis (EDA)</h1>\n",
    "<p>Lorem ipsum dolor sit amet, consectetur adipiscing elit. Suspendisse venenatis ullamcorper lorem ut euismod. Sed convallis, ipsum eget ultrices sodales, erat ligula fringilla purus, tincidunt aliquet nulla turpis quis mauris. Etiam vel orci et tellus ultrices condimentum at id est. Maecenas efficitur vehicula magna ac mattis. In hac habitasse platea dictumst. Curabitur fringilla purus et tellus sagittis, ac lacinia ex tincidunt. Fusce in pellentesque dolor. Quisque facilisis interdum molestie. Vestibulum tristique pharetra tristique. Etiam cursus aliquam ornare. Donec ornare in nisi vel mollis. Pellentesque eu condimentum velit. Sed bibendum nulla id rhoncus varius. Vestibulum placerat elit luctus viverra sollicitudin. Nullam dictum dui fringilla vehicula vehicula. Proin sit amet facilisis justo, non tincidunt diam.<p>\n",
    "<p>Files:</p>\n",
    "<ul>\n",
    "    <li><strong>exploratory_data_analysis_EDA</strong>: jupyer notebook</li>\n",
    "    <li><strong>pdf_aaaaaaaaaaa</strong>: project explanation</li>\n",
    "</ul>\n",
    "\n",
    "<p>Dataset from <a href=\"http://insideairbnb.com/get-the-data.html\">Inside Airbnb</a></p>\n",
    "<table style=\"width:100%\">\n",
    "    <tr>\n",
    "        <th style=\"width:15%\">Date</th>\n",
    "        <th style=\"width:15%\">City</th>\n",
    "        <th style=\"width:15%\">Country</th>\n",
    "        <th style=\"width:15%\">File</th>\n",
    "        <th style=\"width:40%\">Description</th>\n",
    "    </tr>\n",
    "    <tr>\n",
    "        <td>23 February, 2021</td>\n",
    "        <td>Mexico City</td>\n",
    "        <td>Mexico</td>\n",
    "        <td>listings.csv.gz</td>\n",
    "        <td>Detailed Listings data for Mexico City</td>\n",
    "    </tr>\n",
    "    <tr>\n",
    "        <td>23 February, 2021</td>\n",
    "        <td>Mexico City</td>\n",
    "        <td>Mexico</td>\n",
    "        <td>calendar.csv.gz</td>\n",
    "        <td>Detailed Calendar Data for listings in Mexico City</td>\n",
    "    </tr>\n",
    "</table>\n",
    "\n",
    "<br>\n",
    "<div style=\"width:50%;float:left;\">\n",
    "    <p>Calendar Metadata <a href=\"http://insideairbnb.com/get-the-data.html\">Inside Airbnb</a></p>\n",
    "    <table>\n",
    "        <tr>\n",
    "            <th style=\"width:20%\">Attribute</th>\n",
    "            <th style=\"width:80%\">Description</th>\n",
    "        </tr>\n",
    "        <tr>\n",
    "            <td>listing_id</td>\n",
    "            <td></td>\n",
    "        </tr>\n",
    "        <tr>\n",
    "            <td>date</td>\n",
    "            <td></td>\n",
    "        </tr>\n",
    "        <tr>\n",
    "            <td>available</td>\n",
    "            <td></td>\n",
    "        </tr>\n",
    "        <tr>\n",
    "            <td>price</td>\n",
    "            <td></td>\n",
    "        </tr>\n",
    "        <tr>\n",
    "            <td>adjusted_price</td>\n",
    "            <td></td>\n",
    "        </tr>\n",
    "        <tr>\n",
    "            <td>minimum_nights</td>\n",
    "            <td></td>\n",
    "        </tr>\n",
    "        <tr>\n",
    "            <td>maximum_nights</td>\n",
    "            <td></td>\n",
    "        </tr>\n",
    "    </table>\n",
    "</div>\n",
    "<div style=\"clear:both;\"></div>\n",
    "\n",
    "<h4>What is Inside Airbnb?</h4>\n",
    "<p>Inside Airbnb is an investigatory/watchdog website launched by Murray Cox in 2016. It reports and visualizes scraped data on the property rental marketplace company Airbnb, focusing on highlighting illegal renting on the site and gentrification caused by landlords buying properties to rent on Airbnb. <a href=\"https://en.wikipedia.org/wiki/Inside_Airbnb\">More information</a> from Wikipedia.</p>\n",
    "\n",
    "<p>Click <a href=\"https://github.com/sergiodelacruzb/Exploratory-Data-Analysis-EDA\">here</a> to see the repository...</p>"
   ]
  },
  {
   "cell_type": "markdown",
   "metadata": {},
   "source": [
    "<h2><a name=\"menu\"></a>Content Table</h2>\n",
    "<div class=\"alert alert-block alert-info\" style=\"margin-top: 20px\">\n",
    "    <ul>\n",
    "        <li><a href=\"#libraries\">Libraries & Settings</a></li>\n",
    "        <li><a href=\"#data_loading\">Data Loading</a></li>\n",
    "        <li><a href=\"#data_understanding\">Data Exploration & Data Understanding</a>\n",
    "            <ul>\n",
    "                <li><a href=\"#varible_identification\">Variable Identification</a></li>\n",
    "                <li><a href=\"#missing_data\">Missing Data</a></li>\n",
    "            </ul>\n",
    "        </li>\n",
    "        <li><a href=\"#data_preparation\">Data Preparation</a>\n",
    "            <ul>\n",
    "                <li><a href=\"#data_transformation\">Data Transformation</a></li>\n",
    "            </ul>\n",
    "        </li>\n",
    "        <li><a href=\"#ml_modeling\">ML Modeling</a>\n",
    "            <ul>\n",
    "                <li><a href=\"#decision_tree\">Decision Tree</a></li>\n",
    "                <li><a href=\"#random_forest\">Random Forest</a></li>\n",
    "                <li><a href=\"#model_03\">Logestic Regression</a></li>\n",
    "            </ul>\n",
    "        </li>\n",
    "    </ul>\n",
    "    <p>Time: <strong>xxxxxx min</strong></p>\n",
    "</div>"
   ]
  },
  {
   "cell_type": "markdown",
   "metadata": {},
   "source": [
    "<hr>\n",
    "<h2 style=\"padding-bottom:5px\"><a name=\"libraries\"></a>Libraries & Settings</h2>\n",
    "<i style=\"font-size:12px\">Return to the <a href=\"#menu\">Content Table</a></i>"
   ]
  },
  {
   "cell_type": "code",
   "execution_count": 48,
   "metadata": {},
   "outputs": [],
   "source": [
    "import warnings\n",
    "import pandas as pd\n",
    "import matplotlib.pyplot as plt\n",
    "\n",
    "warnings.filterwarnings('ignore')"
   ]
  },
  {
   "cell_type": "markdown",
   "metadata": {},
   "source": [
    "<hr>\n",
    "<h2 style=\"padding-bottom:7.5px\"><a name=\"data_loading\"></a>Data Loading</h2>\n",
    "<i style=\"font-size:12px\">Return to the <a href=\"#menu\">Content Table</a></i>"
   ]
  },
  {
   "cell_type": "code",
   "execution_count": 23,
   "metadata": {},
   "outputs": [
    {
     "name": "stdout",
     "output_type": "stream",
     "text": [
      "We have 369 days and 20063 unique listings in the calendar data. \n",
      "\n"
     ]
    },
    {
     "data": {
      "text/html": [
       "<div>\n",
       "<style scoped>\n",
       "    .dataframe tbody tr th:only-of-type {\n",
       "        vertical-align: middle;\n",
       "    }\n",
       "\n",
       "    .dataframe tbody tr th {\n",
       "        vertical-align: top;\n",
       "    }\n",
       "\n",
       "    .dataframe thead th {\n",
       "        text-align: right;\n",
       "    }\n",
       "</style>\n",
       "<table border=\"1\" class=\"dataframe\">\n",
       "  <thead>\n",
       "    <tr style=\"text-align: right;\">\n",
       "      <th></th>\n",
       "      <th>listing_id</th>\n",
       "      <th>date</th>\n",
       "      <th>available</th>\n",
       "      <th>price</th>\n",
       "      <th>adjusted_price</th>\n",
       "      <th>minimum_nights</th>\n",
       "      <th>maximum_nights</th>\n",
       "    </tr>\n",
       "  </thead>\n",
       "  <tbody>\n",
       "    <tr>\n",
       "      <th>0</th>\n",
       "      <td>454693</td>\n",
       "      <td>2021-02-24</td>\n",
       "      <td>f</td>\n",
       "      <td>$1,445.00</td>\n",
       "      <td>$1,445.00</td>\n",
       "      <td>10.0</td>\n",
       "      <td>1125.0</td>\n",
       "    </tr>\n",
       "    <tr>\n",
       "      <th>1</th>\n",
       "      <td>454693</td>\n",
       "      <td>2021-02-25</td>\n",
       "      <td>f</td>\n",
       "      <td>$1,445.00</td>\n",
       "      <td>$1,445.00</td>\n",
       "      <td>10.0</td>\n",
       "      <td>1125.0</td>\n",
       "    </tr>\n",
       "    <tr>\n",
       "      <th>2</th>\n",
       "      <td>454693</td>\n",
       "      <td>2021-02-26</td>\n",
       "      <td>f</td>\n",
       "      <td>$1,549.00</td>\n",
       "      <td>$1,549.00</td>\n",
       "      <td>10.0</td>\n",
       "      <td>1125.0</td>\n",
       "    </tr>\n",
       "    <tr>\n",
       "      <th>3</th>\n",
       "      <td>454693</td>\n",
       "      <td>2021-02-27</td>\n",
       "      <td>f</td>\n",
       "      <td>$1,549.00</td>\n",
       "      <td>$1,549.00</td>\n",
       "      <td>10.0</td>\n",
       "      <td>1125.0</td>\n",
       "    </tr>\n",
       "    <tr>\n",
       "      <th>4</th>\n",
       "      <td>454693</td>\n",
       "      <td>2021-02-28</td>\n",
       "      <td>f</td>\n",
       "      <td>$1,445.00</td>\n",
       "      <td>$1,445.00</td>\n",
       "      <td>10.0</td>\n",
       "      <td>1125.0</td>\n",
       "    </tr>\n",
       "  </tbody>\n",
       "</table>\n",
       "</div>"
      ],
      "text/plain": [
       "   listing_id        date available      price adjusted_price  minimum_nights  \\\n",
       "0      454693  2021-02-24         f  $1,445.00      $1,445.00            10.0   \n",
       "1      454693  2021-02-25         f  $1,445.00      $1,445.00            10.0   \n",
       "2      454693  2021-02-26         f  $1,549.00      $1,549.00            10.0   \n",
       "3      454693  2021-02-27         f  $1,549.00      $1,549.00            10.0   \n",
       "4      454693  2021-02-28         f  $1,445.00      $1,445.00            10.0   \n",
       "\n",
       "   maximum_nights  \n",
       "0          1125.0  \n",
       "1          1125.0  \n",
       "2          1125.0  \n",
       "3          1125.0  \n",
       "4          1125.0  "
      ]
     },
     "execution_count": 23,
     "metadata": {},
     "output_type": "execute_result"
    }
   ],
   "source": [
    "df_calendar = pd.read_csv('./data/inside_airbnb/2021_02_23/calendar.csv.gz')\n",
    "print(\"We have\", df_calendar.date.nunique(), \n",
    "      \"days and\", df_calendar.listing_id.nunique(), \n",
    "      \"unique listings in the calendar data.\", \"\\n\")\n",
    "\n",
    "df_calendar.head()"
   ]
  },
  {
   "cell_type": "markdown",
   "metadata": {},
   "source": [
    "<hr>\n",
    "<h2 style=\"padding-bottom:7.5px\"><a name=\"data_understanding\"></a>Data Exploration & Data Understanding</h2>\n",
    "<i style=\"font-size:12px\">Return to the <a href=\"#menu\">Content Table</a></i>"
   ]
  },
  {
   "cell_type": "code",
   "execution_count": 24,
   "metadata": {},
   "outputs": [
    {
     "name": "stdout",
     "output_type": "stream",
     "text": [
      "<class 'pandas.core.frame.DataFrame'>\n",
      "RangeIndex: 7323482 entries, 0 to 7323481\n",
      "Data columns (total 7 columns):\n",
      " #   Column          Dtype  \n",
      "---  ------          -----  \n",
      " 0   listing_id      int64  \n",
      " 1   date            object \n",
      " 2   available       object \n",
      " 3   price           object \n",
      " 4   adjusted_price  object \n",
      " 5   minimum_nights  float64\n",
      " 6   maximum_nights  float64\n",
      "dtypes: float64(2), int64(1), object(4)\n",
      "memory usage: 391.1+ MB\n"
     ]
    }
   ],
   "source": [
    "df_calendar.info()"
   ]
  },
  {
   "cell_type": "code",
   "execution_count": 25,
   "metadata": {},
   "outputs": [
    {
     "name": "stdout",
     "output_type": "stream",
     "text": [
      "Min date:  2021-02-23\n",
      "Max date:  2022-02-26\n"
     ]
    }
   ],
   "source": [
    "print(\"Min date: \", df_calendar.date.min())\n",
    "print(\"Max date: \", df_calendar.date.max())"
   ]
  },
  {
   "cell_type": "code",
   "execution_count": 26,
   "metadata": {},
   "outputs": [
    {
     "name": "stdout",
     "output_type": "stream",
     "text": [
      "Values from available feature: ['f' 't'] \n",
      "\n",
      "t    4835154\n",
      "f    2488328\n",
      "Name: available, dtype: int64\n"
     ]
    }
   ],
   "source": [
    "print(\"Values from available feature:\", df_calendar['available'].unique(), \"\\n\")\n",
    "print(df_calendar['available'].value_counts())"
   ]
  },
  {
   "cell_type": "code",
   "execution_count": 52,
   "metadata": {},
   "outputs": [
    {
     "data": {
      "text/html": [
       "<div>\n",
       "<style scoped>\n",
       "    .dataframe tbody tr th:only-of-type {\n",
       "        vertical-align: middle;\n",
       "    }\n",
       "\n",
       "    .dataframe tbody tr th {\n",
       "        vertical-align: top;\n",
       "    }\n",
       "\n",
       "    .dataframe thead th {\n",
       "        text-align: right;\n",
       "    }\n",
       "</style>\n",
       "<table border=\"1\" class=\"dataframe\">\n",
       "  <thead>\n",
       "    <tr style=\"text-align: right;\">\n",
       "      <th></th>\n",
       "      <th>date</th>\n",
       "      <th>busy</th>\n",
       "    </tr>\n",
       "  </thead>\n",
       "  <tbody>\n",
       "    <tr>\n",
       "      <th>0</th>\n",
       "      <td>2021-02-23</td>\n",
       "      <td>0.818075</td>\n",
       "    </tr>\n",
       "    <tr>\n",
       "      <th>1</th>\n",
       "      <td>2021-02-24</td>\n",
       "      <td>0.619759</td>\n",
       "    </tr>\n",
       "    <tr>\n",
       "      <th>2</th>\n",
       "      <td>2021-02-25</td>\n",
       "      <td>0.518711</td>\n",
       "    </tr>\n",
       "    <tr>\n",
       "      <th>3</th>\n",
       "      <td>2021-02-26</td>\n",
       "      <td>0.451103</td>\n",
       "    </tr>\n",
       "    <tr>\n",
       "      <th>4</th>\n",
       "      <td>2021-02-27</td>\n",
       "      <td>0.427575</td>\n",
       "    </tr>\n",
       "  </tbody>\n",
       "</table>\n",
       "</div>"
      ],
      "text/plain": [
       "        date      busy\n",
       "0 2021-02-23  0.818075\n",
       "1 2021-02-24  0.619759\n",
       "2 2021-02-25  0.518711\n",
       "3 2021-02-26  0.451103\n",
       "4 2021-02-27  0.427575"
      ]
     },
     "execution_count": 52,
     "metadata": {},
     "output_type": "execute_result"
    }
   ],
   "source": [
    "df_calendar_available = df_calendar[['date', 'available']]\n",
    "df_calendar_available['busy'] = df_calendar_available['available'].apply(lambda x: 0 if x == 't' else 1)\n",
    "df_calendar_available = df_calendar_available.groupby(['date'])['busy'].mean().reset_index()\n",
    "df_calendar_available['date'] = pd.to_datetime(df_calendar_available['date'])\n",
    "df_calendar_available.head()"
   ]
  },
  {
   "cell_type": "code",
   "execution_count": 54,
   "metadata": {},
   "outputs": [
    {
     "data": {
      "image/png": "[encoded data removed]",
      "text/plain": [
       "<Figure size 1440x360 with 1 Axes>"
      ]
     },
     "metadata": {
      "needs_background": "light"
     },
     "output_type": "display_data"
    }
   ],
   "source": [
    "plt.figure(figsize=(20, 5))\n",
    "plt.plot(df_calendar_available['date'], df_calendar_available['busy'])\n",
    "plt.title('Airbnb Mexico City Calendar')\n",
    "plt.ylabel('% busy')\n",
    "plt.ylabel('Date')\n",
    "plt.show();"
   ]
  },
  {
   "cell_type": "code",
   "execution_count": null,
   "metadata": {},
   "outputs": [],
   "source": []
  }
 ],
 "metadata": {
  "kernelspec": {
   "display_name": "Python 3",
   "language": "python",
   "name": "python3"
  },
  "language_info": {
   "codemirror_mode": {
    "name": "ipython",
    "version": 3
   },
   "file_extension": ".py",
   "mimetype": "text/x-python",
   "name": "python",
   "nbconvert_exporter": "python",
   "pygments_lexer": "ipython3",
   "version": "3.8.5"
  }
 },
 "nbformat": 4,
 "nbformat_minor": 4
}
